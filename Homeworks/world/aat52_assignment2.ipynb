{
 "cells": [
  {
   "cell_type": "markdown",
   "metadata": {},
   "source": [
    "Assignment 2: Working with Pandas\n",
    "\n",
    "Task 1: Join City and Country datasets\n",
    "\n",
    "Task 2 : Write a query that would produce a list of 3 cities with the largest populations in Afghanistan. The resulting report should display the following columns:\n",
    "    a. City name\n",
    "    b. Country name\n",
    "    c. District\n",
    "    d. Population\n",
    "    \n",
    "Task 3: Write a query that would tell you which country in the Middle East region has the lowest life expectancy.\n",
    "\n",
    "Task 4: Write a query that would tell you the combined Gross National Product (GNP) of all countries in the Caribbean.\n",
    "\n",
    "Task 5: Write a query that would produce a list of every city in Madagascar whose name begins with the letter ‘A’\n",
    "\n",
    "Task 6: Join Country and CountryLanguage datasets.\n",
    "\n",
    "Task 7 : Write a query that would produce a list of every country in Western Europe where the primary language is French."
   ]
  },
  {
   "cell_type": "code",
   "execution_count": 30,
   "metadata": {},
   "outputs": [],
   "source": [
    "#load pandas into memory and name it pd\n",
    "import pandas as pd"
   ]
  },
  {
   "cell_type": "code",
   "execution_count": 31,
   "metadata": {},
   "outputs": [],
   "source": [
    "#load files\n",
    "city_data = pd.read_csv(\"city.csv\", index_col=\"ID\")\n",
    "country_data = pd.read_csv(\"country.csv\", index_col=\"Code\")"
   ]
  },
  {
   "cell_type": "code",
   "execution_count": 32,
   "metadata": {},
   "outputs": [],
   "source": [
    "#1: join city and country datasets\n",
    "city_country = pd.merge(city_data, country_data, how= 'outer', left_on= 'CountryCode', right_on= 'Code')\n",
    "#city_country.head()"
   ]
  },
  {
   "cell_type": "code",
   "execution_count": 33,
   "metadata": {},
   "outputs": [],
   "source": [
    "#list to rename columns\n",
    "city_country.columns = ['CityName', 'CountryCode', \n",
    "                        'District', 'CityPopulation', 'CountryName', \n",
    "                        'Continent', 'Region', 'SurfaceArea', 'IndepYear', \n",
    "                        'CountryPopulation', 'LifeExpectancy', 'GNP', \n",
    "                        'GNPOld', 'LocalName', 'GovernmentForm', 'HeadOfState', \n",
    "                        'Capitol', 'Code2']\n"
   ]
  },
  {
   "cell_type": "code",
   "execution_count": 34,
   "metadata": {},
   "outputs": [
    {
     "data": {
      "text/html": [
       "<div>\n",
       "<style scoped>\n",
       "    .dataframe tbody tr th:only-of-type {\n",
       "        vertical-align: middle;\n",
       "    }\n",
       "\n",
       "    .dataframe tbody tr th {\n",
       "        vertical-align: top;\n",
       "    }\n",
       "\n",
       "    .dataframe thead th {\n",
       "        text-align: right;\n",
       "    }\n",
       "</style>\n",
       "<table border=\"1\" class=\"dataframe\">\n",
       "  <thead>\n",
       "    <tr style=\"text-align: right;\">\n",
       "      <th></th>\n",
       "      <th>CityName</th>\n",
       "      <th>CountryName</th>\n",
       "      <th>District</th>\n",
       "      <th>CityPopulation</th>\n",
       "    </tr>\n",
       "  </thead>\n",
       "  <tbody>\n",
       "    <tr>\n",
       "      <td>0</td>\n",
       "      <td>Kabul</td>\n",
       "      <td>Afghanistan</td>\n",
       "      <td>Kabol</td>\n",
       "      <td>1780000.0</td>\n",
       "    </tr>\n",
       "    <tr>\n",
       "      <td>1</td>\n",
       "      <td>Qandahar</td>\n",
       "      <td>Afghanistan</td>\n",
       "      <td>Qandahar</td>\n",
       "      <td>237500.0</td>\n",
       "    </tr>\n",
       "    <tr>\n",
       "      <td>2</td>\n",
       "      <td>Herat</td>\n",
       "      <td>Afghanistan</td>\n",
       "      <td>Herat</td>\n",
       "      <td>186800.0</td>\n",
       "    </tr>\n",
       "  </tbody>\n",
       "</table>\n",
       "</div>"
      ],
      "text/plain": [
       "   CityName  CountryName  District  CityPopulation\n",
       "0     Kabul  Afghanistan     Kabol       1780000.0\n",
       "1  Qandahar  Afghanistan  Qandahar        237500.0\n",
       "2     Herat  Afghanistan     Herat        186800.0"
      ]
     },
     "execution_count": 34,
     "metadata": {},
     "output_type": "execute_result"
    }
   ],
   "source": [
    "#2: Write a query that would produce a \n",
    "#list of 3 cities with the largest populations in Afghanistan. \n",
    "#The resulting report should display the following columns: \n",
    "   # a. City name b. Country name c. District d. Population\n",
    "    \n",
    "#querying using boolean operators\n",
    "q1 = \"CountryName == 'Afghanistan'\"\n",
    "search = city_country.query(q1).sort_values('CityPopulation', ascending=False)\n",
    "search_results = city_country.query(q1)\n",
    "sorted_data = search_results.sort_values('CityPopulation', ascending=False)\n",
    "#set range 0-3\n",
    "sorted_data[['CityName', 'CountryName', 'District', 'CityPopulation']].iloc[0:3]"
   ]
  },
  {
   "cell_type": "code",
   "execution_count": 35,
   "metadata": {},
   "outputs": [
    {
     "data": {
      "text/plain": [
       "Name                         Zambia\n",
       "Continent                    Africa\n",
       "Region               Eastern Africa\n",
       "SurfaceArea                  752618\n",
       "IndepYear                      1964\n",
       "Population                  9169000\n",
       "LifeExpectancy                 37.2\n",
       "GNP                            3377\n",
       "GNPOld                         3922\n",
       "LocalName                    Zambia\n",
       "GovernmentForm             Republic\n",
       "HeadOfState       Frederick Chiluba\n",
       "Capital                        3162\n",
       "Code2                            ZM\n",
       "Name: ZMB, dtype: object"
      ]
     },
     "execution_count": 35,
     "metadata": {},
     "output_type": "execute_result"
    }
   ],
   "source": [
    "#3: Write a query that would tell you which country \n",
    "#in the Middle East region has the lowest life expectancy.\n",
    "country_data.sort_values('LifeExpectancy', ascending=True).iloc[0]"
   ]
  },
  {
   "cell_type": "code",
   "execution_count": 36,
   "metadata": {},
   "outputs": [
    {
     "data": {
      "text/plain": [
       "103586.2"
      ]
     },
     "execution_count": 36,
     "metadata": {},
     "output_type": "execute_result"
    }
   ],
   "source": [
    "#4: Write a query that would tell you the combined \n",
    "#Gross National Product (GNP) of all countries in the Caribbean\n",
    "\n",
    "#caribbean query\n",
    "caribbean_query = country_data['Region'] == \"Caribbean\"\n",
    "caribbean = country_data[caribbean_query]\n",
    "caribbean['GNP'].sum()\n"
   ]
  },
  {
   "cell_type": "code",
   "execution_count": 37,
   "metadata": {},
   "outputs": [
    {
     "name": "stdout",
     "output_type": "stream",
     "text": [
      "Antananarivo\n",
      "AntsirabÃ©\n"
     ]
    }
   ],
   "source": [
    "#5: Write a query that would produce a list of every \n",
    "#city in Madagascar whose name begins with the letter ‘A’\n",
    "\n",
    "#country query for madagascar\n",
    "country_query = city_country['CountryName'] == \"Madagascar\"\n",
    "madagascar_info = city_country[country_query]\n",
    "city_query = madagascar_info['CityName']\n",
    "#result = city_query.str.startswith(\"A\")\n",
    "\n",
    "#print values\n",
    "for i in city_query:\n",
    "    if i.startswith('A'):\n",
    "        print(i)\n"
   ]
  },
  {
   "cell_type": "code",
   "execution_count": 39,
   "metadata": {},
   "outputs": [],
   "source": [
    "#6: Join Country and CountryLanguage datasets.\n",
    "country_lang_data = pd.read_csv(\"countrylanguage.csv\")\n",
    "#i finally got this to work, but i had trouble since the \n",
    "    #first two files needed to be assigned indexes and merged that way, \n",
    "    #versus this one that refused to work if i indexed it\n",
    "country_lang = pd.merge(country_lang_data, country_data, how= 'outer', right_on= 'Code', left_on= 'CountryCode')\n",
    "#country_lang.head()"
   ]
  },
  {
   "cell_type": "code",
   "execution_count": 29,
   "metadata": {},
   "outputs": [
    {
     "data": {
      "text/html": [
       "<div>\n",
       "<style scoped>\n",
       "    .dataframe tbody tr th:only-of-type {\n",
       "        vertical-align: middle;\n",
       "    }\n",
       "\n",
       "    .dataframe tbody tr th {\n",
       "        vertical-align: top;\n",
       "    }\n",
       "\n",
       "    .dataframe thead th {\n",
       "        text-align: right;\n",
       "    }\n",
       "</style>\n",
       "<table border=\"1\" class=\"dataframe\">\n",
       "  <thead>\n",
       "    <tr style=\"text-align: right;\">\n",
       "      <th></th>\n",
       "      <th>Name</th>\n",
       "      <th>Language</th>\n",
       "      <th>IsOfficial</th>\n",
       "    </tr>\n",
       "  </thead>\n",
       "  <tbody>\n",
       "    <tr>\n",
       "      <td>66</td>\n",
       "      <td>Belgium</td>\n",
       "      <td>French</td>\n",
       "      <td>T</td>\n",
       "    </tr>\n",
       "    <tr>\n",
       "      <td>151</td>\n",
       "      <td>Switzerland</td>\n",
       "      <td>French</td>\n",
       "      <td>T</td>\n",
       "    </tr>\n",
       "    <tr>\n",
       "      <td>290</td>\n",
       "      <td>France</td>\n",
       "      <td>French</td>\n",
       "      <td>T</td>\n",
       "    </tr>\n",
       "    <tr>\n",
       "      <td>515</td>\n",
       "      <td>Luxembourg</td>\n",
       "      <td>French</td>\n",
       "      <td>T</td>\n",
       "    </tr>\n",
       "    <tr>\n",
       "      <td>533</td>\n",
       "      <td>Monaco</td>\n",
       "      <td>French</td>\n",
       "      <td>T</td>\n",
       "    </tr>\n",
       "  </tbody>\n",
       "</table>\n",
       "</div>"
      ],
      "text/plain": [
       "            Name Language IsOfficial\n",
       "66       Belgium   French          T\n",
       "151  Switzerland   French          T\n",
       "290       France   French          T\n",
       "515   Luxembourg   French          T\n",
       "533       Monaco   French          T"
      ]
     },
     "execution_count": 29,
     "metadata": {},
     "output_type": "execute_result"
    }
   ],
   "source": [
    "#7 : Write a query that would produce a list \n",
    "#of every country in Western Europe where the primary language is French.\n",
    "\n",
    "#query for region\n",
    "region_query = country_lang['Region'] == \"Western Europe\"\n",
    "WE_info = country_lang[region_query]\n",
    "\n",
    "#query for french\n",
    "lang_query = WE_info['Language'] == \"French\"\n",
    "french_query = WE_info[lang_query]\n",
    "\n",
    "#find primary \n",
    "primary_query = french_query['IsOfficial'] == 'T'\n",
    "\n",
    "final = french_query[primary_query]\n",
    "\n",
    "final[['Name', 'Language', 'IsOfficial']].iloc[:,:]"
   ]
  },
  {
   "cell_type": "code",
   "execution_count": null,
   "metadata": {},
   "outputs": [],
   "source": []
  }
 ],
 "metadata": {
  "kernelspec": {
   "display_name": "Python 3",
   "language": "python",
   "name": "python3"
  },
  "language_info": {
   "codemirror_mode": {
    "name": "ipython",
    "version": 3
   },
   "file_extension": ".py",
   "mimetype": "text/x-python",
   "name": "python",
   "nbconvert_exporter": "python",
   "pygments_lexer": "ipython3",
   "version": "3.7.6"
  }
 },
 "nbformat": 4,
 "nbformat_minor": 2
}
