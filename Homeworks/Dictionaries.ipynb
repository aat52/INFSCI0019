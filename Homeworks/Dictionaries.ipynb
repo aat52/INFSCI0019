{
 "cells": [
  {
   "cell_type": "code",
   "execution_count": null,
   "metadata": {},
   "outputs": [],
   "source": [
    "shopping_list = {}"
   ]
  },
  {
   "cell_type": "code",
   "execution_count": null,
   "metadata": {},
   "outputs": [],
   "source": [
    "shopping_list[\"Bananas\"] = 1.99\n",
    "shopping_list[\"Tomatoes\"] = 3.99\n",
    "shopping_list[\"Blueberries\"] = 5.99\n",
    "shopping_list[\"Milk\"] = 5.99\n",
    "shopping_list[\"Eggs\"] = 2.99\n",
    "print(shopping_list)"
   ]
  },
  {
   "cell_type": "code",
   "execution_count": null,
   "metadata": {},
   "outputs": [],
   "source": [
    "print(shopping_list[\"Eggs\"])"
   ]
  },
  {
   "cell_type": "code",
   "execution_count": null,
   "metadata": {},
   "outputs": [],
   "source": [
    "del shopping_list[\"Blueberries\"]\n",
    "print(shopping_list)"
   ]
  },
  {
   "cell_type": "code",
   "execution_count": null,
   "metadata": {
    "collapsed": true
   },
   "outputs": [],
   "source": [
    "total = 0\n",
    "avg = 0\n",
    "\n",
    "#print(shopping_list.items())\n",
    "for k, v in shopping_list.items():\n",
    "    total = total + v\n",
    "    \n",
    "print(\"Total cost: \" + str(total))\n",
    "print(\"Average: \", total / len(shopping_list))"
   ]
  },
  {
   "cell_type": "code",
   "execution_count": null,
   "metadata": {},
   "outputs": [],
   "source": [
    "employers = {\n",
    "    '1':'Bob'\n",
    "    '2':'John'\n",
    "    '3':'Kate'\n",
    "    '4':'Jane'\n",
    "}"
   ]
  },
  {
   "cell_type": "code",
   "execution_count": null,
   "metadata": {},
   "outputs": [],
   "source": [
    "employees['1']"
   ]
  }
 ],
 "metadata": {
  "kernelspec": {
   "display_name": "Python 3",
   "language": "python",
   "name": "python3"
  },
  "language_info": {
   "codemirror_mode": {
    "name": "ipython",
    "version": 3
   },
   "file_extension": ".py",
   "mimetype": "text/x-python",
   "name": "python",
   "nbconvert_exporter": "python",
   "pygments_lexer": "ipython3",
   "version": "3.7.4"
  }
 },
 "nbformat": 4,
 "nbformat_minor": 2
}
