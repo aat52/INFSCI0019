{
 "cells": [
  {
   "cell_type": "markdown",
   "metadata": {},
   "source": [
    "## Python for Data Management and Analytics\n",
    "### Assignment 1"
   ]
  },
  {
   "cell_type": "markdown",
   "metadata": {},
   "source": [
    "**Task 1 (5 points)**\n",
    "\n",
    "* Consider the following list: nums = [1, 1, 2, 3, 5, 8, 13, 21, 34, 55, 89]\n",
    "* Write a program that:\n",
    "    1. Creates a new empty list called \"even\"\n",
    "    2. Populates the new list with values of all the elements from the first list (nums) that are even\n",
    "    3. Prints the contents of the second list\n",
    "\n",
    "* Note: You must use a _for_ loop, a modulus, and an _if_ statement to solve this problem"
   ]
  },
  {
   "cell_type": "code",
   "execution_count": 25,
   "metadata": {},
   "outputs": [
    {
     "name": "stdout",
     "output_type": "stream",
     "text": [
      "[2, 8, 34]\n"
     ]
    }
   ],
   "source": [
    "# Task 1 solution\n",
    "nums = [1, 1, 2, 3, 5, 8, 13, 21, 34, 55, 89]\n",
    "\n",
    "# Complete your solution below\n",
    "#initiialize even array\n",
    "even = []\n",
    "\n",
    "#for loop to test nums\n",
    "for x in nums:\n",
    "    if x%2==0:\n",
    "        even.append(x)\n",
    "        #print(x)\n",
    "print(even)\n",
    "\n"
   ]
  },
  {
   "cell_type": "markdown",
   "metadata": {},
   "source": [
    "**Task 2 (5 points)**\n",
    "* Consider the following two lists:\n",
    "    1. list_a = [1, 1, 2, 3, 5, 8, 13, 21, 34, 55, 89]\n",
    "    2. list_b = [1, 2, 3, 4, 5, 6, 7, 8, 9, 10, 11, 12, 13]\n",
    "* Write a program that:\n",
    "    1. Creates a new list called \"overlap\"\n",
    "    2. Iterates through _list_a_ and _list_b_\n",
    "    3. Finds operlaps (numbers that occur in both lists)\n",
    "    4. Stores the overlapping numbers in the \"overlap\" list\n",
    "    5. Prints the \"overlap\" list"
   ]
  },
  {
   "cell_type": "code",
   "execution_count": 27,
   "metadata": {},
   "outputs": [
    {
     "name": "stdout",
     "output_type": "stream",
     "text": [
      "[1, 2, 3, 5, 8, 13]\n"
     ]
    }
   ],
   "source": [
    "# Task 2 solution\n",
    "list_a = [1, 1, 2, 3, 5, 8, 13, 21, 34, 55, 89]\n",
    "list_b = [1, 2, 3, 4, 5, 6, 7, 8, 9, 10, 11, 12, 13]\n",
    "\n",
    "# Complete your solution below\n",
    "overlap = []\n",
    "\n",
    "def overlap(list_a, list_b):\n",
    "    return list(set(list_a) & set(list_b))\n",
    "\n",
    "#print list with brackets\n",
    "print(overlap(list_a, list_b))\n"
   ]
  },
  {
   "cell_type": "markdown",
   "metadata": {},
   "source": [
    "**Task 3 (10 points)**\n",
    "\n",
    "* Write a program that asks the user how many Fibonnaci numbers to generate and then generates them. \n",
    "* Do not write custom Python functions and do not use recursion.  You should be able to accomplish this task with a single list and a single loop\n",
    "* You can initialize the list of Fibonnaci numbers with the first two elements. Example: fib = [1, 1]\n",
    "* Before each line of code in your solution, provide a comment explaining what each step does!\n",
    "* _Hint_: Do not forget to convert user input from a string to an integer (remember typecasting)"
   ]
  },
  {
   "cell_type": "code",
   "execution_count": 28,
   "metadata": {},
   "outputs": [
    {
     "name": "stdout",
     "output_type": "stream",
     "text": [
      "Number of Fibonacci numbers: 6\n",
      "[1, 1, 2, 3, 5, 8]\n"
     ]
    }
   ],
   "source": [
    "# Task 3 solution\n",
    "\n",
    "# Complete your solution below\n",
    "#typecast user input\n",
    "user_input = int(input(\"Number of Fibonacci numbers: \"))\n",
    "\n",
    "#initialize\n",
    "fib = [0]*user_input\n",
    "fib[0] = 1\n",
    "count = 2\n",
    "\n",
    "#test case for input of 1\n",
    "if (user_input > 1):\n",
    "    fib[1] = 1\n",
    "\n",
    "#test case for input of 2\n",
    "if (user_input > 2):\n",
    "    #while loop to run through sequence\n",
    "    while count < user_input:\n",
    "        fib[count] = fib[count - 2] + fib[count - 1]\n",
    "        #increment count\n",
    "        count = count + 1 \n",
    "\n",
    "#print fibonacci numbers\n",
    "print(fib)"
   ]
  },
  {
   "cell_type": "markdown",
   "metadata": {},
   "source": [
    "**Task 4 (30 points)**\n",
    "* Write a program that:\n",
    "    * Asks the user to enter a message (a word or a sentence)\n",
    "    * Creates a simple shift cypher that shifts letters by 3.  In other words, A becomes D, V becomes Y, and Z becomes C.\n",
    "    * For the purposes of this assignment:\n",
    "        * You can start with a hardcoded list of letters\n",
    "        * Make the cypher case-insensitive (you can convert user input to lower case)\n",
    "    * Print the original and the encrypted messages\n",
    "    * Before each line of code in your solution, provide a comment explaining what each step does!"
   ]
  },
  {
   "cell_type": "code",
   "execution_count": 30,
   "metadata": {},
   "outputs": [
    {
     "name": "stdout",
     "output_type": "stream",
     "text": [
      "Enter a message: Tie\n",
      "Original = Tie\n",
      "After cypher: wlh\n"
     ]
    }
   ],
   "source": [
    "# Task 4 solution\n",
    "\n",
    "# All letters in the English alphabet\n",
    "alphabet = ['a','b','c','d','e','f','g','h','i','j','k','l','m','n','o','p','q','r','s','t','u','v','w','x','y','z']\n",
    "\n",
    "# Encrypted string will be stored in \"result\"\n",
    "result = \"\"\n",
    "\n",
    "# How many letters the cypher will shift by\n",
    "shift = 3\n",
    "\n",
    "# Complete your solution below\n",
    "#ask for user input\n",
    "user_input = str(input(\"Enter a message: \"))\n",
    "\n",
    "#for loop to run through letters of the message\n",
    "for letter in user_input.lower():\n",
    "    result = result + (chr(ord(letter)+shift))\n",
    "\n",
    "#print both original and cyphered message\n",
    "print(\"Original = \" + user_input)\n",
    "print(\"After cypher: \" + result)\n"
   ]
  },
  {
   "cell_type": "code",
   "execution_count": null,
   "metadata": {},
   "outputs": [],
   "source": []
  },
  {
   "cell_type": "code",
   "execution_count": null,
   "metadata": {},
   "outputs": [],
   "source": []
  }
 ],
 "metadata": {
  "kernelspec": {
   "display_name": "Python 3",
   "language": "python",
   "name": "python3"
  },
  "language_info": {
   "codemirror_mode": {
    "name": "ipython",
    "version": 3
   },
   "file_extension": ".py",
   "mimetype": "text/x-python",
   "name": "python",
   "nbconvert_exporter": "python",
   "pygments_lexer": "ipython3",
   "version": "3.7.4"
  }
 },
 "nbformat": 4,
 "nbformat_minor": 2
}
