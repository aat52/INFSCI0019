{
 "cells": [
  {
   "cell_type": "markdown",
   "metadata": {},
   "source": [
    "For this assignment you will need to predict whether or not a pet will get adopted. Note\n",
    "that the “Outcome” column contains multiple categories. For this assignment you will\n",
    "need to convert the data into only two categories: 1 == adopted, 0 == not adopted.\n",
    "● Check for missing values. If there are any missing values, deal with them appropriately.\n",
    "● Provide written justification explaining why you selected particular methods for dealing\n",
    "with missing values\n",
    "● Check for outliers. Do we keep them or do we drop them? Why?\n",
    "● Provide written justification explaining why you decided to keep or drop outliers.\n",
    "● Center and scale data as needed\n",
    "○ Generate a density plot for every field that contains continuous data\n",
    "○ Review distributions\n",
    "○ Chose centering and scaling approach\n",
    "○ Provide written justification explaining why you needed (or did not need) to center\n",
    "and/or scale the data.\n",
    "● Transform data as needed\n",
    "○ Choose transformation approach\n",
    "○ Provide written justification explaining why you needed (or did not need) to\n",
    "transform the data\n",
    "● Think about which features make sense as predictors. DO NOT use all features as\n",
    "predictors in your model.\n",
    "● Provide a written justification explaining why you selected certain features and excluded\n",
    "others\n",
    "● Create and train four classification models (using Naive Bayes, SVM, KNN, Random\n",
    "Forest) that predict whether or not a pet will get adopted\n",
    "● Use 10-fold cross validation to validate your models.\n",
    "● Report each model’s accuracy score\n",
    "● Report each model’s AUC score\n",
    "● Compare accuracy for the four models and make a recommendation as to which model\n",
    "performed best\n",
    "● Write a paragraph (either as comments or as markdown) explaining whether or not your\n",
    "best model is “good” and why"
   ]
  },
  {
   "cell_type": "code",
   "execution_count": 1,
   "metadata": {},
   "outputs": [],
   "source": [
    "#load tools\n",
    "import pandas as pd\n",
    "import numpy as np\n",
    "\n",
    "from sklearn.model_selection import train_test_split\n",
    "\n",
    "from sklearn.naive_bayes import GaussianNB\n",
    "\n",
    "from sklearn.metrics import accuracy_score\n",
    "from sklearn.preprocessing import LabelEncoder\n",
    "\n",
    "import matplotlib.pyplot as plt\n",
    "%matplotlib inline\n",
    "\n",
    "from sklearn.model_selection import cross_val_score, cross_val_predict"
   ]
  },
  {
   "cell_type": "code",
   "execution_count": 2,
   "metadata": {},
   "outputs": [
    {
     "data": {
      "text/html": [
       "<div>\n",
       "<style scoped>\n",
       "    .dataframe tbody tr th:only-of-type {\n",
       "        vertical-align: middle;\n",
       "    }\n",
       "\n",
       "    .dataframe tbody tr th {\n",
       "        vertical-align: top;\n",
       "    }\n",
       "\n",
       "    .dataframe thead th {\n",
       "        text-align: right;\n",
       "    }\n",
       "</style>\n",
       "<table border=\"1\" class=\"dataframe\">\n",
       "  <thead>\n",
       "    <tr style=\"text-align: right;\">\n",
       "      <th></th>\n",
       "      <th>age_upon_outcome</th>\n",
       "      <th>animal_id</th>\n",
       "      <th>animal_type</th>\n",
       "      <th>breed</th>\n",
       "      <th>color</th>\n",
       "      <th>date_of_birth</th>\n",
       "      <th>datetime</th>\n",
       "      <th>monthyear</th>\n",
       "      <th>name</th>\n",
       "      <th>outcome_subtype</th>\n",
       "      <th>outcome_type</th>\n",
       "      <th>sex_upon_outcome</th>\n",
       "    </tr>\n",
       "  </thead>\n",
       "  <tbody>\n",
       "    <tr>\n",
       "      <th>0</th>\n",
       "      <td>2 weeks</td>\n",
       "      <td>A684346</td>\n",
       "      <td>Cat</td>\n",
       "      <td>Domestic Shorthair Mix</td>\n",
       "      <td>Orange Tabby</td>\n",
       "      <td>2014-07-07T00:00:00</td>\n",
       "      <td>2014-07-22T16:04:00</td>\n",
       "      <td>2014-07-22T16:04:00</td>\n",
       "      <td>NaN</td>\n",
       "      <td>Partner</td>\n",
       "      <td>Transfer</td>\n",
       "      <td>Intact Male</td>\n",
       "    </tr>\n",
       "    <tr>\n",
       "      <th>1</th>\n",
       "      <td>1 year</td>\n",
       "      <td>A666430</td>\n",
       "      <td>Dog</td>\n",
       "      <td>Beagle Mix</td>\n",
       "      <td>White/Brown</td>\n",
       "      <td>2012-11-06T00:00:00</td>\n",
       "      <td>2013-11-07T11:47:00</td>\n",
       "      <td>2013-11-07T11:47:00</td>\n",
       "      <td>Lucy</td>\n",
       "      <td>Partner</td>\n",
       "      <td>Transfer</td>\n",
       "      <td>Spayed Female</td>\n",
       "    </tr>\n",
       "    <tr>\n",
       "      <th>2</th>\n",
       "      <td>1 year</td>\n",
       "      <td>A675708</td>\n",
       "      <td>Dog</td>\n",
       "      <td>Pit Bull</td>\n",
       "      <td>Blue/White</td>\n",
       "      <td>2013-03-31T00:00:00</td>\n",
       "      <td>2014-06-03T14:20:00</td>\n",
       "      <td>2014-06-03T14:20:00</td>\n",
       "      <td>*Johnny</td>\n",
       "      <td>NaN</td>\n",
       "      <td>Adoption</td>\n",
       "      <td>Neutered Male</td>\n",
       "    </tr>\n",
       "    <tr>\n",
       "      <th>3</th>\n",
       "      <td>9 years</td>\n",
       "      <td>A680386</td>\n",
       "      <td>Dog</td>\n",
       "      <td>Miniature Schnauzer Mix</td>\n",
       "      <td>White</td>\n",
       "      <td>2005-06-02T00:00:00</td>\n",
       "      <td>2014-06-15T15:50:00</td>\n",
       "      <td>2014-06-15T15:50:00</td>\n",
       "      <td>Monday</td>\n",
       "      <td>Partner</td>\n",
       "      <td>Transfer</td>\n",
       "      <td>Neutered Male</td>\n",
       "    </tr>\n",
       "    <tr>\n",
       "      <th>4</th>\n",
       "      <td>5 months</td>\n",
       "      <td>A683115</td>\n",
       "      <td>Other</td>\n",
       "      <td>Bat Mix</td>\n",
       "      <td>Brown</td>\n",
       "      <td>2014-01-07T00:00:00</td>\n",
       "      <td>2014-07-07T14:04:00</td>\n",
       "      <td>2014-07-07T14:04:00</td>\n",
       "      <td>NaN</td>\n",
       "      <td>Rabies Risk</td>\n",
       "      <td>Euthanasia</td>\n",
       "      <td>Unknown</td>\n",
       "    </tr>\n",
       "    <tr>\n",
       "      <th>...</th>\n",
       "      <td>...</td>\n",
       "      <td>...</td>\n",
       "      <td>...</td>\n",
       "      <td>...</td>\n",
       "      <td>...</td>\n",
       "      <td>...</td>\n",
       "      <td>...</td>\n",
       "      <td>...</td>\n",
       "      <td>...</td>\n",
       "      <td>...</td>\n",
       "      <td>...</td>\n",
       "      <td>...</td>\n",
       "    </tr>\n",
       "    <tr>\n",
       "      <th>78251</th>\n",
       "      <td>1 month</td>\n",
       "      <td>A764894</td>\n",
       "      <td>Dog</td>\n",
       "      <td>Golden Retriever/Labrador Retriever</td>\n",
       "      <td>Brown/White</td>\n",
       "      <td>2017-12-04T00:00:00</td>\n",
       "      <td>2018-02-01T18:26:00</td>\n",
       "      <td>2018-02-01T18:26:00</td>\n",
       "      <td>NaN</td>\n",
       "      <td>Foster</td>\n",
       "      <td>Adoption</td>\n",
       "      <td>Spayed Female</td>\n",
       "    </tr>\n",
       "    <tr>\n",
       "      <th>78252</th>\n",
       "      <td>3 years</td>\n",
       "      <td>A764468</td>\n",
       "      <td>Dog</td>\n",
       "      <td>Mastiff Mix</td>\n",
       "      <td>Blue/White</td>\n",
       "      <td>2014-12-30T00:00:00</td>\n",
       "      <td>2018-02-01T18:06:00</td>\n",
       "      <td>2018-02-01T18:06:00</td>\n",
       "      <td>Max</td>\n",
       "      <td>NaN</td>\n",
       "      <td>Adoption</td>\n",
       "      <td>Neutered Male</td>\n",
       "    </tr>\n",
       "    <tr>\n",
       "      <th>78253</th>\n",
       "      <td>NaN</td>\n",
       "      <td>A766098</td>\n",
       "      <td>Other</td>\n",
       "      <td>Bat Mix</td>\n",
       "      <td>Brown</td>\n",
       "      <td>2017-02-01T00:00:00</td>\n",
       "      <td>2018-02-01T18:08:00</td>\n",
       "      <td>2018-02-01T18:08:00</td>\n",
       "      <td>NaN</td>\n",
       "      <td>Rabies Risk</td>\n",
       "      <td>Euthanasia</td>\n",
       "      <td>Unknown</td>\n",
       "    </tr>\n",
       "    <tr>\n",
       "      <th>78254</th>\n",
       "      <td>2 months</td>\n",
       "      <td>A765858</td>\n",
       "      <td>Dog</td>\n",
       "      <td>Standard Schnauzer</td>\n",
       "      <td>Red</td>\n",
       "      <td>2017-11-13T00:00:00</td>\n",
       "      <td>2018-02-01T18:32:00</td>\n",
       "      <td>2018-02-01T18:32:00</td>\n",
       "      <td>NaN</td>\n",
       "      <td>NaN</td>\n",
       "      <td>Adoption</td>\n",
       "      <td>Spayed Female</td>\n",
       "    </tr>\n",
       "    <tr>\n",
       "      <th>78255</th>\n",
       "      <td>2 months</td>\n",
       "      <td>A765857</td>\n",
       "      <td>Dog</td>\n",
       "      <td>Labrador Retriever Mix</td>\n",
       "      <td>White/Brown</td>\n",
       "      <td>2017-11-13T00:00:00</td>\n",
       "      <td>2018-02-01T18:44:00</td>\n",
       "      <td>2018-02-01T18:44:00</td>\n",
       "      <td>NaN</td>\n",
       "      <td>NaN</td>\n",
       "      <td>Adoption</td>\n",
       "      <td>Neutered Male</td>\n",
       "    </tr>\n",
       "  </tbody>\n",
       "</table>\n",
       "<p>78256 rows × 12 columns</p>\n",
       "</div>"
      ],
      "text/plain": [
       "      age_upon_outcome animal_id animal_type  \\\n",
       "0              2 weeks   A684346         Cat   \n",
       "1               1 year   A666430         Dog   \n",
       "2               1 year   A675708         Dog   \n",
       "3              9 years   A680386         Dog   \n",
       "4             5 months   A683115       Other   \n",
       "...                ...       ...         ...   \n",
       "78251          1 month   A764894         Dog   \n",
       "78252          3 years   A764468         Dog   \n",
       "78253              NaN   A766098       Other   \n",
       "78254         2 months   A765858         Dog   \n",
       "78255         2 months   A765857         Dog   \n",
       "\n",
       "                                     breed         color        date_of_birth  \\\n",
       "0                   Domestic Shorthair Mix  Orange Tabby  2014-07-07T00:00:00   \n",
       "1                               Beagle Mix   White/Brown  2012-11-06T00:00:00   \n",
       "2                                 Pit Bull    Blue/White  2013-03-31T00:00:00   \n",
       "3                  Miniature Schnauzer Mix         White  2005-06-02T00:00:00   \n",
       "4                                  Bat Mix         Brown  2014-01-07T00:00:00   \n",
       "...                                    ...           ...                  ...   \n",
       "78251  Golden Retriever/Labrador Retriever   Brown/White  2017-12-04T00:00:00   \n",
       "78252                          Mastiff Mix    Blue/White  2014-12-30T00:00:00   \n",
       "78253                              Bat Mix         Brown  2017-02-01T00:00:00   \n",
       "78254                   Standard Schnauzer           Red  2017-11-13T00:00:00   \n",
       "78255               Labrador Retriever Mix   White/Brown  2017-11-13T00:00:00   \n",
       "\n",
       "                  datetime            monthyear     name outcome_subtype  \\\n",
       "0      2014-07-22T16:04:00  2014-07-22T16:04:00      NaN         Partner   \n",
       "1      2013-11-07T11:47:00  2013-11-07T11:47:00     Lucy         Partner   \n",
       "2      2014-06-03T14:20:00  2014-06-03T14:20:00  *Johnny             NaN   \n",
       "3      2014-06-15T15:50:00  2014-06-15T15:50:00   Monday         Partner   \n",
       "4      2014-07-07T14:04:00  2014-07-07T14:04:00      NaN     Rabies Risk   \n",
       "...                    ...                  ...      ...             ...   \n",
       "78251  2018-02-01T18:26:00  2018-02-01T18:26:00      NaN          Foster   \n",
       "78252  2018-02-01T18:06:00  2018-02-01T18:06:00      Max             NaN   \n",
       "78253  2018-02-01T18:08:00  2018-02-01T18:08:00      NaN     Rabies Risk   \n",
       "78254  2018-02-01T18:32:00  2018-02-01T18:32:00      NaN             NaN   \n",
       "78255  2018-02-01T18:44:00  2018-02-01T18:44:00      NaN             NaN   \n",
       "\n",
       "      outcome_type sex_upon_outcome  \n",
       "0         Transfer      Intact Male  \n",
       "1         Transfer    Spayed Female  \n",
       "2         Adoption    Neutered Male  \n",
       "3         Transfer    Neutered Male  \n",
       "4       Euthanasia          Unknown  \n",
       "...            ...              ...  \n",
       "78251     Adoption    Spayed Female  \n",
       "78252     Adoption    Neutered Male  \n",
       "78253   Euthanasia          Unknown  \n",
       "78254     Adoption    Spayed Female  \n",
       "78255     Adoption    Neutered Male  \n",
       "\n",
       "[78256 rows x 12 columns]"
      ]
     },
     "execution_count": 2,
     "metadata": {},
     "output_type": "execute_result"
    }
   ],
   "source": [
    "#load file\n",
    "shelter_data = pd.read_csv(\"aac_shelter_outcomes.csv\")\n",
    "shelter_data"
   ]
  },
  {
   "cell_type": "code",
   "execution_count": 3,
   "metadata": {},
   "outputs": [
    {
     "data": {
      "text/plain": [
       "age_upon_outcome        8\n",
       "animal_id               0\n",
       "animal_type             0\n",
       "breed                   0\n",
       "color                   0\n",
       "date_of_birth           0\n",
       "datetime                0\n",
       "monthyear               0\n",
       "name                23886\n",
       "outcome_subtype     42293\n",
       "outcome_type           12\n",
       "sex_upon_outcome        2\n",
       "dtype: int64"
      ]
     },
     "execution_count": 3,
     "metadata": {},
     "output_type": "execute_result"
    }
   ],
   "source": [
    "#check for null values in the columns\n",
    "shelter_data.isnull().sum()"
   ]
  },
  {
   "cell_type": "code",
   "execution_count": 4,
   "metadata": {},
   "outputs": [
    {
     "data": {
      "text/plain": [
       "count      78248\n",
       "unique        46\n",
       "top       1 year\n",
       "freq       14355\n",
       "Name: age_upon_outcome, dtype: object"
      ]
     },
     "execution_count": 4,
     "metadata": {},
     "output_type": "execute_result"
    }
   ],
   "source": [
    "#note that age_upon_outcome is an object, and mean/median cannot be performed on it\n",
    "#there are 8 null values in the age column, \n",
    "#we can estimate and fill it in with the most common occurring age, so the\n",
    "#shelter animals can be assumed to be at least 1 year of age\n",
    "shelter_data.age_upon_outcome.describe()"
   ]
  },
  {
   "cell_type": "code",
   "execution_count": 5,
   "metadata": {},
   "outputs": [],
   "source": [
    "#fill missing values for age\n",
    "shelter_data[\"age_upon_outcome\"].fillna(\"1 year\", inplace=True)"
   ]
  },
  {
   "cell_type": "code",
   "execution_count": 6,
   "metadata": {},
   "outputs": [],
   "source": [
    "#we can't just carelessly drop the rows with no names, as those are all valid data\n",
    "#but we also can't just fill with the most common name\n",
    "#instead, let's fill it with \"unknown\" as a filler\n",
    "shelter_data[\"name\"].fillna(\"Unknown\", inplace=True)"
   ]
  },
  {
   "cell_type": "markdown",
   "metadata": {},
   "source": [
    "We only care about if the animal was adopted or not, so the last three columns have to be\n",
    "filtered through; everything not marked \"adoption\" must be converted to the numeric 0"
   ]
  },
  {
   "cell_type": "code",
   "execution_count": 7,
   "metadata": {},
   "outputs": [],
   "source": [
    "#let's drop the unnecessary outcome columns\n",
    "shelter_data.drop('outcome_subtype', axis = 'columns', inplace = True)\n",
    "shelter_data.drop('sex_upon_outcome', axis = 'columns', inplace = True)"
   ]
  },
  {
   "cell_type": "code",
   "execution_count": 8,
   "metadata": {},
   "outputs": [
    {
     "data": {
      "text/plain": [
       "count        78244\n",
       "unique           9\n",
       "top       Adoption\n",
       "freq         33112\n",
       "Name: outcome_type, dtype: object"
      ]
     },
     "execution_count": 8,
     "metadata": {},
     "output_type": "execute_result"
    }
   ],
   "source": [
    "shelter_data.outcome_type.describe()"
   ]
  },
  {
   "cell_type": "code",
   "execution_count": 9,
   "metadata": {},
   "outputs": [
    {
     "data": {
      "text/plain": [
       "array(['Transfer', 'Adoption', 'Euthanasia', 'Return to Owner', 'Died',\n",
       "       'Disposal', 'Relocate', 'Missing', nan, 'Rto-Adopt'], dtype=object)"
      ]
     },
     "execution_count": 9,
     "metadata": {},
     "output_type": "execute_result"
    }
   ],
   "source": [
    "#check the different outcome types\n",
    "shelter_data.outcome_type.unique()"
   ]
  },
  {
   "cell_type": "code",
   "execution_count": 10,
   "metadata": {},
   "outputs": [],
   "source": [
    "#there are null values, we can fill them with \"not adopted\" or simply drop them\n",
    "#since there are only 12 null values, dropping would not have an adverse effect on the data\n",
    "#i will fill the null values, since i don't feel too comfortable with dropping data\n",
    "\n",
    "shelter_data[\"outcome_type\"].fillna(\"Missing\", inplace=True)"
   ]
  },
  {
   "cell_type": "code",
   "execution_count": 11,
   "metadata": {},
   "outputs": [
    {
     "data": {
      "text/html": [
       "<div>\n",
       "<style scoped>\n",
       "    .dataframe tbody tr th:only-of-type {\n",
       "        vertical-align: middle;\n",
       "    }\n",
       "\n",
       "    .dataframe tbody tr th {\n",
       "        vertical-align: top;\n",
       "    }\n",
       "\n",
       "    .dataframe thead th {\n",
       "        text-align: right;\n",
       "    }\n",
       "</style>\n",
       "<table border=\"1\" class=\"dataframe\">\n",
       "  <thead>\n",
       "    <tr style=\"text-align: right;\">\n",
       "      <th></th>\n",
       "      <th>age_upon_outcome</th>\n",
       "      <th>animal_id</th>\n",
       "      <th>animal_type</th>\n",
       "      <th>breed</th>\n",
       "      <th>color</th>\n",
       "      <th>date_of_birth</th>\n",
       "      <th>datetime</th>\n",
       "      <th>monthyear</th>\n",
       "      <th>name</th>\n",
       "      <th>outcome_type</th>\n",
       "      <th>outcome</th>\n",
       "    </tr>\n",
       "  </thead>\n",
       "  <tbody>\n",
       "    <tr>\n",
       "      <th>0</th>\n",
       "      <td>2 weeks</td>\n",
       "      <td>A684346</td>\n",
       "      <td>Cat</td>\n",
       "      <td>Domestic Shorthair Mix</td>\n",
       "      <td>Orange Tabby</td>\n",
       "      <td>2014-07-07T00:00:00</td>\n",
       "      <td>2014-07-22T16:04:00</td>\n",
       "      <td>2014-07-22T16:04:00</td>\n",
       "      <td>Unknown</td>\n",
       "      <td>Transfer</td>\n",
       "      <td>0</td>\n",
       "    </tr>\n",
       "    <tr>\n",
       "      <th>1</th>\n",
       "      <td>1 year</td>\n",
       "      <td>A666430</td>\n",
       "      <td>Dog</td>\n",
       "      <td>Beagle Mix</td>\n",
       "      <td>White/Brown</td>\n",
       "      <td>2012-11-06T00:00:00</td>\n",
       "      <td>2013-11-07T11:47:00</td>\n",
       "      <td>2013-11-07T11:47:00</td>\n",
       "      <td>Lucy</td>\n",
       "      <td>Transfer</td>\n",
       "      <td>0</td>\n",
       "    </tr>\n",
       "    <tr>\n",
       "      <th>2</th>\n",
       "      <td>1 year</td>\n",
       "      <td>A675708</td>\n",
       "      <td>Dog</td>\n",
       "      <td>Pit Bull</td>\n",
       "      <td>Blue/White</td>\n",
       "      <td>2013-03-31T00:00:00</td>\n",
       "      <td>2014-06-03T14:20:00</td>\n",
       "      <td>2014-06-03T14:20:00</td>\n",
       "      <td>*Johnny</td>\n",
       "      <td>Adoption</td>\n",
       "      <td>1</td>\n",
       "    </tr>\n",
       "    <tr>\n",
       "      <th>3</th>\n",
       "      <td>9 years</td>\n",
       "      <td>A680386</td>\n",
       "      <td>Dog</td>\n",
       "      <td>Miniature Schnauzer Mix</td>\n",
       "      <td>White</td>\n",
       "      <td>2005-06-02T00:00:00</td>\n",
       "      <td>2014-06-15T15:50:00</td>\n",
       "      <td>2014-06-15T15:50:00</td>\n",
       "      <td>Monday</td>\n",
       "      <td>Transfer</td>\n",
       "      <td>0</td>\n",
       "    </tr>\n",
       "    <tr>\n",
       "      <th>4</th>\n",
       "      <td>5 months</td>\n",
       "      <td>A683115</td>\n",
       "      <td>Other</td>\n",
       "      <td>Bat Mix</td>\n",
       "      <td>Brown</td>\n",
       "      <td>2014-01-07T00:00:00</td>\n",
       "      <td>2014-07-07T14:04:00</td>\n",
       "      <td>2014-07-07T14:04:00</td>\n",
       "      <td>Unknown</td>\n",
       "      <td>Euthanasia</td>\n",
       "      <td>0</td>\n",
       "    </tr>\n",
       "    <tr>\n",
       "      <th>...</th>\n",
       "      <td>...</td>\n",
       "      <td>...</td>\n",
       "      <td>...</td>\n",
       "      <td>...</td>\n",
       "      <td>...</td>\n",
       "      <td>...</td>\n",
       "      <td>...</td>\n",
       "      <td>...</td>\n",
       "      <td>...</td>\n",
       "      <td>...</td>\n",
       "      <td>...</td>\n",
       "    </tr>\n",
       "    <tr>\n",
       "      <th>78251</th>\n",
       "      <td>1 month</td>\n",
       "      <td>A764894</td>\n",
       "      <td>Dog</td>\n",
       "      <td>Golden Retriever/Labrador Retriever</td>\n",
       "      <td>Brown/White</td>\n",
       "      <td>2017-12-04T00:00:00</td>\n",
       "      <td>2018-02-01T18:26:00</td>\n",
       "      <td>2018-02-01T18:26:00</td>\n",
       "      <td>Unknown</td>\n",
       "      <td>Adoption</td>\n",
       "      <td>1</td>\n",
       "    </tr>\n",
       "    <tr>\n",
       "      <th>78252</th>\n",
       "      <td>3 years</td>\n",
       "      <td>A764468</td>\n",
       "      <td>Dog</td>\n",
       "      <td>Mastiff Mix</td>\n",
       "      <td>Blue/White</td>\n",
       "      <td>2014-12-30T00:00:00</td>\n",
       "      <td>2018-02-01T18:06:00</td>\n",
       "      <td>2018-02-01T18:06:00</td>\n",
       "      <td>Max</td>\n",
       "      <td>Adoption</td>\n",
       "      <td>1</td>\n",
       "    </tr>\n",
       "    <tr>\n",
       "      <th>78253</th>\n",
       "      <td>1 year</td>\n",
       "      <td>A766098</td>\n",
       "      <td>Other</td>\n",
       "      <td>Bat Mix</td>\n",
       "      <td>Brown</td>\n",
       "      <td>2017-02-01T00:00:00</td>\n",
       "      <td>2018-02-01T18:08:00</td>\n",
       "      <td>2018-02-01T18:08:00</td>\n",
       "      <td>Unknown</td>\n",
       "      <td>Euthanasia</td>\n",
       "      <td>0</td>\n",
       "    </tr>\n",
       "    <tr>\n",
       "      <th>78254</th>\n",
       "      <td>2 months</td>\n",
       "      <td>A765858</td>\n",
       "      <td>Dog</td>\n",
       "      <td>Standard Schnauzer</td>\n",
       "      <td>Red</td>\n",
       "      <td>2017-11-13T00:00:00</td>\n",
       "      <td>2018-02-01T18:32:00</td>\n",
       "      <td>2018-02-01T18:32:00</td>\n",
       "      <td>Unknown</td>\n",
       "      <td>Adoption</td>\n",
       "      <td>1</td>\n",
       "    </tr>\n",
       "    <tr>\n",
       "      <th>78255</th>\n",
       "      <td>2 months</td>\n",
       "      <td>A765857</td>\n",
       "      <td>Dog</td>\n",
       "      <td>Labrador Retriever Mix</td>\n",
       "      <td>White/Brown</td>\n",
       "      <td>2017-11-13T00:00:00</td>\n",
       "      <td>2018-02-01T18:44:00</td>\n",
       "      <td>2018-02-01T18:44:00</td>\n",
       "      <td>Unknown</td>\n",
       "      <td>Adoption</td>\n",
       "      <td>1</td>\n",
       "    </tr>\n",
       "  </tbody>\n",
       "</table>\n",
       "<p>78256 rows × 11 columns</p>\n",
       "</div>"
      ],
      "text/plain": [
       "      age_upon_outcome animal_id animal_type  \\\n",
       "0              2 weeks   A684346         Cat   \n",
       "1               1 year   A666430         Dog   \n",
       "2               1 year   A675708         Dog   \n",
       "3              9 years   A680386         Dog   \n",
       "4             5 months   A683115       Other   \n",
       "...                ...       ...         ...   \n",
       "78251          1 month   A764894         Dog   \n",
       "78252          3 years   A764468         Dog   \n",
       "78253           1 year   A766098       Other   \n",
       "78254         2 months   A765858         Dog   \n",
       "78255         2 months   A765857         Dog   \n",
       "\n",
       "                                     breed         color        date_of_birth  \\\n",
       "0                   Domestic Shorthair Mix  Orange Tabby  2014-07-07T00:00:00   \n",
       "1                               Beagle Mix   White/Brown  2012-11-06T00:00:00   \n",
       "2                                 Pit Bull    Blue/White  2013-03-31T00:00:00   \n",
       "3                  Miniature Schnauzer Mix         White  2005-06-02T00:00:00   \n",
       "4                                  Bat Mix         Brown  2014-01-07T00:00:00   \n",
       "...                                    ...           ...                  ...   \n",
       "78251  Golden Retriever/Labrador Retriever   Brown/White  2017-12-04T00:00:00   \n",
       "78252                          Mastiff Mix    Blue/White  2014-12-30T00:00:00   \n",
       "78253                              Bat Mix         Brown  2017-02-01T00:00:00   \n",
       "78254                   Standard Schnauzer           Red  2017-11-13T00:00:00   \n",
       "78255               Labrador Retriever Mix   White/Brown  2017-11-13T00:00:00   \n",
       "\n",
       "                  datetime            monthyear     name outcome_type  outcome  \n",
       "0      2014-07-22T16:04:00  2014-07-22T16:04:00  Unknown     Transfer        0  \n",
       "1      2013-11-07T11:47:00  2013-11-07T11:47:00     Lucy     Transfer        0  \n",
       "2      2014-06-03T14:20:00  2014-06-03T14:20:00  *Johnny     Adoption        1  \n",
       "3      2014-06-15T15:50:00  2014-06-15T15:50:00   Monday     Transfer        0  \n",
       "4      2014-07-07T14:04:00  2014-07-07T14:04:00  Unknown   Euthanasia        0  \n",
       "...                    ...                  ...      ...          ...      ...  \n",
       "78251  2018-02-01T18:26:00  2018-02-01T18:26:00  Unknown     Adoption        1  \n",
       "78252  2018-02-01T18:06:00  2018-02-01T18:06:00      Max     Adoption        1  \n",
       "78253  2018-02-01T18:08:00  2018-02-01T18:08:00  Unknown   Euthanasia        0  \n",
       "78254  2018-02-01T18:32:00  2018-02-01T18:32:00  Unknown     Adoption        1  \n",
       "78255  2018-02-01T18:44:00  2018-02-01T18:44:00  Unknown     Adoption        1  \n",
       "\n",
       "[78256 rows x 11 columns]"
      ]
     },
     "execution_count": 11,
     "metadata": {},
     "output_type": "execute_result"
    }
   ],
   "source": [
    "#convert the data into only two categories: 1 == adopted, 0 == not adopted\n",
    "#we could use get_dummies, but since this method is not specified, I'll do it by using numpy \n",
    "#to replace values for convenience\n",
    "shelter_data['outcome'] = np.where(shelter_data ['outcome_type'].str.contains('Adoption'), 1, 0)\n",
    "shelter_data"
   ]
  },
  {
   "cell_type": "markdown",
   "metadata": {},
   "source": [
    "We have no need to deal with outliers, since these are all significant data and there will be significant differences between each individual. In addition, most of these values are not numerical."
   ]
  },
  {
   "cell_type": "markdown",
   "metadata": {},
   "source": [
    "Centering and scaling the data is also unnecessary here, due to the lack of numerical values. Density plots, in turn, also cannot be generated. In addition, the data cannot be transformed."
   ]
  },
  {
   "cell_type": "markdown",
   "metadata": {},
   "source": [
    "So our task is to predict whether or not a pet will get adopted. For this, it is reasonable to take into account columns age, type, date_time, and outcome. Age and type may affect the animal's chance of being adopted due to preference, and date_time may also be a factor due to adoption seasons. The outcome will clearly be relevant in analysis of whether or not a pet will be adopted. While breed and color may affect the chances of an animal being adopted, there are too many variances in such detail where it would be more efficient just to look at the animal type when predicting adoptions. Date of birth is irrelevant, since we already have the age upon outcome. Name and animal id will most likely not affect adoption at all, so we can move past those."
   ]
  },
  {
   "cell_type": "markdown",
   "metadata": {},
   "source": [
    "Naive Bayes"
   ]
  },
  {
   "cell_type": "code",
   "execution_count": 12,
   "metadata": {},
   "outputs": [],
   "source": [
    "#apply label encoder to columns\n",
    "def label_encode(shelter_data, columns):\n",
    "    for col in columns:\n",
    "        le = LabelEncoder()\n",
    "        col_values_unique = list(shelter_data[col].unique())\n",
    "        le_fitted = le.fit(col_values_unique)\n",
    " \n",
    "        col_values = list(shelter_data[col].values)\n",
    "        #le.classes_\n",
    "        col_values_transformed = le.transform(col_values)\n",
    "        shelter_data[col] = col_values_transformed"
   ]
  },
  {
   "cell_type": "code",
   "execution_count": 13,
   "metadata": {},
   "outputs": [
    {
     "name": "stderr",
     "output_type": "stream",
     "text": [
      "/Users/dragon/opt/anaconda3/lib/python3.7/site-packages/ipykernel_launcher.py:11: SettingWithCopyWarning: \n",
      "A value is trying to be set on a copy of a slice from a DataFrame.\n",
      "Try using .loc[row_indexer,col_indexer] = value instead\n",
      "\n",
      "See the caveats in the documentation: https://pandas.pydata.org/pandas-docs/stable/user_guide/indexing.html#returning-a-view-versus-a-copy\n",
      "  # This is added back by InteractiveShellApp.init_path()\n"
     ]
    }
   ],
   "source": [
    "#naive bayes\n",
    "x = shelter_data[['age_upon_outcome','animal_type','datetime']]\n",
    "label_encode(x, x.columns.values)\n",
    "\n",
    "y = shelter_data[['outcome']]\n",
    "label_encode(y, y.columns.values)\n",
    "\n",
    "x_train, x_test, y_train, y_test = train_test_split(x, y, test_size = 0.33, random_state = 10)"
   ]
  },
  {
   "cell_type": "code",
   "execution_count": 14,
   "metadata": {},
   "outputs": [
    {
     "data": {
      "text/plain": [
       "array([1, 0, 0, ..., 0, 0, 0])"
      ]
     },
     "execution_count": 14,
     "metadata": {},
     "output_type": "execute_result"
    }
   ],
   "source": [
    "#apply model\n",
    "nb = GaussianNB()\n",
    "nb.fit(x_train, y_train.values.ravel())\n",
    "y_pred = nb.predict(x_test)\n",
    "y_pred"
   ]
  },
  {
   "cell_type": "code",
   "execution_count": 15,
   "metadata": {},
   "outputs": [
    {
     "name": "stdout",
     "output_type": "stream",
     "text": [
      "0.5803291384317522\n"
     ]
    }
   ],
   "source": [
    "#accuracy (yikes)\n",
    "from sklearn import metrics\n",
    "print(metrics.accuracy_score(y_test, y_pred))"
   ]
  },
  {
   "cell_type": "code",
   "execution_count": 16,
   "metadata": {},
   "outputs": [
    {
     "name": "stdout",
     "output_type": "stream",
     "text": [
      "[0.57692308 0.57692308 0.57692308 0.64656274 0.55954511 0.56286737\n",
      " 0.56894569 0.56217252 0.57162939 0.56741214]\n",
      "Cross-validated score: 0.5769904186013852\n"
     ]
    }
   ],
   "source": [
    "#10 fold cross validation\n",
    "scores = cross_val_score(nb, x, y.values.ravel(), cv=10)\n",
    "print(scores)\n",
    "print('Cross-validated score:', scores.mean())"
   ]
  },
  {
   "cell_type": "code",
   "execution_count": 17,
   "metadata": {},
   "outputs": [
    {
     "name": "stdout",
     "output_type": "stream",
     "text": [
      "0.5803291384317522\n",
      "0.5447305108345873\n"
     ]
    }
   ],
   "source": [
    "# make class predictions for the testing set\n",
    "y_pred_class = nb.predict(x_test)\n",
    "\n",
    "print(metrics.accuracy_score(y_test, y_pred_class))\n",
    "print(metrics.roc_auc_score(y_test, y_pred_class))"
   ]
  },
  {
   "cell_type": "markdown",
   "metadata": {},
   "source": [
    "SVM"
   ]
  },
  {
   "cell_type": "code",
   "execution_count": 18,
   "metadata": {},
   "outputs": [
    {
     "data": {
      "text/plain": [
       "SVC(C=1.0, break_ties=False, cache_size=200, class_weight=None, coef0=0.0,\n",
       "    decision_function_shape='ovr', degree=3, gamma='scale', kernel='rbf',\n",
       "    max_iter=-1, probability=False, random_state=None, shrinking=True,\n",
       "    tol=0.001, verbose=False)"
      ]
     },
     "execution_count": 18,
     "metadata": {},
     "output_type": "execute_result"
    }
   ],
   "source": [
    "from sklearn import svm\n",
    "\n",
    "# instantiate model\n",
    "model = svm.SVC() \n",
    "\n",
    "# fit model\n",
    "model.fit(x_train, y_train.values.ravel())"
   ]
  },
  {
   "cell_type": "code",
   "execution_count": 19,
   "metadata": {},
   "outputs": [],
   "source": [
    "# make class predictions for the testing set\n",
    "y_pred_class = model.predict(x_test)"
   ]
  },
  {
   "cell_type": "code",
   "execution_count": 20,
   "metadata": {},
   "outputs": [
    {
     "name": "stdout",
     "output_type": "stream",
     "text": [
      "0.5756437560503388\n",
      "0.5\n"
     ]
    }
   ],
   "source": [
    "print(metrics.accuracy_score(y_test, y_pred_class))\n",
    "print(metrics.roc_auc_score(y_test, y_pred_class))"
   ]
  },
  {
   "cell_type": "code",
   "execution_count": 21,
   "metadata": {},
   "outputs": [],
   "source": [
    "#cross validation was making it run slow, so i commented it out\n",
    "#scores = cross_val_score(model, x, y.values.ravel(), cv=10)\n",
    "#print(scores.mean())"
   ]
  },
  {
   "cell_type": "markdown",
   "metadata": {},
   "source": [
    "KNN"
   ]
  },
  {
   "cell_type": "code",
   "execution_count": 33,
   "metadata": {},
   "outputs": [
    {
     "data": {
      "text/plain": [
       "KNeighborsRegressor(algorithm='auto', leaf_size=30, metric='minkowski',\n",
       "                    metric_params=None, n_jobs=None, n_neighbors=5, p=2,\n",
       "                    weights='uniform')"
      ]
     },
     "execution_count": 33,
     "metadata": {},
     "output_type": "execute_result"
    }
   ],
   "source": [
    "from sklearn.neighbors import KNeighborsRegressor\n",
    "\n",
    "# instantiate model\n",
    "model = KNeighborsRegressor(n_neighbors=5)\n",
    "\n",
    "# fit model\n",
    "model.fit(x_train, y_train)"
   ]
  },
  {
   "cell_type": "code",
   "execution_count": 34,
   "metadata": {},
   "outputs": [],
   "source": [
    "#cross validation was making it run slow, so i commented it out\n",
    "#scores = cross_val_score(model, x, y.values.ravel(), cv=10)\n",
    "#print(scores.mean())"
   ]
  },
  {
   "cell_type": "code",
   "execution_count": 35,
   "metadata": {},
   "outputs": [],
   "source": [
    "# make class predictions for the testing set\n",
    "y_pred_class = model.predict(x_test)"
   ]
  },
  {
   "cell_type": "code",
   "execution_count": 36,
   "metadata": {},
   "outputs": [
    {
     "name": "stdout",
     "output_type": "stream",
     "text": [
      "0.6476282671829623\n",
      "0.6842645993842711\n"
     ]
    }
   ],
   "source": [
    "# calculate accuracy\n",
    "print(metrics.accuracy_score(y_test, y_pred_class.round()))\n",
    "print(metrics.roc_auc_score(y_test, y_pred_class))"
   ]
  },
  {
   "cell_type": "markdown",
   "metadata": {},
   "source": [
    "Random Forest"
   ]
  },
  {
   "cell_type": "code",
   "execution_count": 26,
   "metadata": {},
   "outputs": [
    {
     "name": "stdout",
     "output_type": "stream",
     "text": [
      "0.6973088092933204\n",
      "0.7704702723347336\n"
     ]
    }
   ],
   "source": [
    "#import the model \n",
    "from sklearn.ensemble import RandomForestRegressor\n",
    "\n",
    "#instantiate model \n",
    "rf = RandomForestRegressor(n_estimators = 1000, random_state = 42)\n",
    "\n",
    "#train the model on training data\n",
    "rf.fit(x_train, y_train.values.ravel());\n",
    "\n",
    "# Use the forest's predict method on the test data\n",
    "y_pred_class = rf.predict(x_test)\n",
    "\n",
    "print(metrics.accuracy_score(y_test, y_pred_class.round()))\n",
    "print(metrics.roc_auc_score(y_test, y_pred_class))"
   ]
  },
  {
   "cell_type": "code",
   "execution_count": 28,
   "metadata": {},
   "outputs": [],
   "source": [
    "#cross validation was making it run slow, so i commented it out\n",
    "#scores = cross_val_score(model, x, y.values.ravel(), cv=10)\n",
    "#print(scores.mean())"
   ]
  },
  {
   "cell_type": "markdown",
   "metadata": {},
   "source": [
    "Of the four models, the RFM performed the best, with a 70% accuracy score compared to 58%, 57%, and 64% of the other models. When we look at the AUC values, we see that the NBM and SVM are both on the low end, near 0.5, making them bad classifiers. When comparing the KNN and RFM, 0.77 of the RM is more reliable and indicates a better classifier. This further supports that the Random Forest Model is the one that performed the best. At a 0.77 AUC score and 0.69 accuracy score, the RFM works as a good classifier, but it definitely could be more accurate. Predicting adoption at a 70% rate may not be as precise and reliable as most shelters would want, but this imprecision can also be chalked up to unpredictable preferences as each adopter may have different goals when adopting."
   ]
  },
  {
   "cell_type": "markdown",
   "metadata": {},
   "source": []
  }
 ],
 "metadata": {
  "kernelspec": {
   "display_name": "Python 3",
   "language": "python",
   "name": "python3"
  },
  "language_info": {
   "codemirror_mode": {
    "name": "ipython",
    "version": 3
   },
   "file_extension": ".py",
   "mimetype": "text/x-python",
   "name": "python",
   "nbconvert_exporter": "python",
   "pygments_lexer": "ipython3",
   "version": "3.7.6"
  }
 },
 "nbformat": 4,
 "nbformat_minor": 2
}
