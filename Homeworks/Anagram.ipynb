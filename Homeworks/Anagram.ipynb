{
 "cells": [
  {
   "cell_type": "code",
   "execution_count": 1,
   "metadata": {},
   "outputs": [],
   "source": [
    "w1 = 'elvis'\n",
    "w2 = 'lives'\n"
   ]
  },
  {
   "cell_type": "markdown",
   "metadata": {},
   "source": [
    "### Anagrams\n",
    "1. get user input\n",
    "2. put letters form the input in alphabetical order\n",
    "3. open text file\n",
    "4. read the file\n",
    "5. iterate through words in file\n",
    "6. for each word in file, put words' letters in alphabetical order\n",
    "7. compare ordered input woht each ordered word\n",
    "8. if match, then the word is an anagram"
   ]
  },
  {
   "cell_type": "code",
   "execution_count": 2,
   "metadata": {},
   "outputs": [
    {
     "name": "stdout",
     "output_type": "stream",
     "text": [
      "Enter a word: dictionary\n",
      "Original user inputdictionary\n"
     ]
    }
   ],
   "source": [
    "#1. get user input\n",
    "user_input = input(\"Enter a word: \")\n",
    "print(\"Original user input\" + user_input)"
   ]
  },
  {
   "cell_type": "code",
   "execution_count": 4,
   "metadata": {},
   "outputs": [
    {
     "name": "stdout",
     "output_type": "stream",
     "text": [
      "['a', 'c', 'd', 'i', 'i', 'n', 'o', 'r', 't', 'y']\n"
     ]
    }
   ],
   "source": [
    "#2. put letters from input in alphabetical order\n",
    "sorted_user_input = sorted(user_input)\n",
    "print(sorted_user_input)"
   ]
  },
  {
   "cell_type": "code",
   "execution_count": 6,
   "metadata": {},
   "outputs": [],
   "source": [
    "#3. open file\n",
    "f = open('words.txt')"
   ]
  },
  {
   "cell_type": "code",
   "execution_count": 7,
   "metadata": {},
   "outputs": [
    {
     "name": "stdout",
     "output_type": "stream",
     "text": [
      "['a\\n', 'aa\\n', 'aaa\\n', 'aah\\n', 'aahed\\n', 'aahing\\n', 'aahs\\n', 'aal\\n', 'aalii\\n', 'aaliis\\n']\n"
     ]
    }
   ],
   "source": [
    "#4. read the data from file\n",
    "words = f.readlines()\n",
    "print(words[0:10])"
   ]
  },
  {
   "cell_type": "code",
   "execution_count": 8,
   "metadata": {},
   "outputs": [
    {
     "name": "stdout",
     "output_type": "stream",
     "text": [
      "dictionary\n",
      "indicatory\n"
     ]
    }
   ],
   "source": [
    "#5. iterate through list\n",
    "for item in words:\n",
    "    item = item.replace('\\n', '')\n",
    "    item_sorted = sorted(item)\n",
    "    #compare sorted input with each ordered word\n",
    "    if item_sorted == sorted_user_input:\n",
    "        print(item)"
   ]
  },
  {
   "cell_type": "raw",
   "metadata": {},
   "source": []
  },
  {
   "cell_type": "code",
   "execution_count": null,
   "metadata": {},
   "outputs": [],
   "source": []
  }
 ],
 "metadata": {
  "kernelspec": {
   "display_name": "Python 3",
   "language": "python",
   "name": "python3"
  },
  "language_info": {
   "codemirror_mode": {
    "name": "ipython",
    "version": 3
   },
   "file_extension": ".py",
   "mimetype": "text/x-python",
   "name": "python",
   "nbconvert_exporter": "python",
   "pygments_lexer": "ipython3",
   "version": "3.7.4"
  }
 },
 "nbformat": 4,
 "nbformat_minor": 2
}
